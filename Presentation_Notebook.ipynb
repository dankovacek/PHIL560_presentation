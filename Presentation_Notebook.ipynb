{
 "cells": [
  {
   "cell_type": "code",
   "execution_count": 1,
   "metadata": {},
   "outputs": [],
   "source": [
    "from os.path import join, dirname\n",
    "import datetime\n",
    "\n",
    "import pandas as pd\n",
    "from scipy.signal import savgol_filter\n",
    "\n",
    "from bokeh.io import curdoc\n",
    "from bokeh.layouts import row, column\n",
    "from bokeh.models import (ColumnDataSource, DataRange1d, \n",
    "                         HoverTool, Slider, Div)\n",
    "from bokeh.palettes import Blues4, brewer\n",
    "from bokeh.plotting import figure\n",
    "\n",
    "from bokeh_app import content"
   ]
  },
  {
   "cell_type": "code",
   "execution_count": 2,
   "metadata": {},
   "outputs": [],
   "source": [
    "def make_plot(source, title):\n",
    "    plot = figure(plot_width=800, tools=\"\", \n",
    "    toolbar_location=None, y_range=(0, 1),\n",
    "    x_range=(0,N_objects_total))\n",
    "    # plot.title.text = title\n",
    "\n",
    "    # plot.line(x='N', y='f', color=Blues4[2], \n",
    "    # line_width=4, source=source)\n",
    "    names = ['a_part', 'b_part', 'c_part']\n",
    "    labels = ['P(RH)', 'P(G)', 'P(K)']\n",
    "    plot.varea_stack(stackers=names, x='n_prop', color=brewer['Paired'][len(names)], legend_label=labels, source=source)\n",
    "    plot.legend.items.reverse()\n",
    "\n",
    "    plot.vline_stack(\n",
    "        names,\n",
    "        x=\"n_prop\",\n",
    "        line_width=5,\n",
    "        color=brewer['Paired'][len(names)],\n",
    "        source=source,\n",
    "        alpha=0.,\n",
    "    )\n",
    "\n",
    "    # add hovertool\n",
    "    plot.add_tools(HoverTool(show_arrow=True, line_policy='next', tooltips=[\n",
    "        ('P(K)', '@c_part{0.000}'),\n",
    "        ('P(G)', '@b_part{0.000}'), \n",
    "        ('P(RH)', '@a_part{0.000}'),\n",
    "        ('n/N', '@n_prop{0.000}')\n",
    "    ]))\n",
    "\n",
    "    # fixed attributes\n",
    "    plot.yaxis.axis_label = \"f(n) (Expected Recall)\"\n",
    "    plot.xaxis.axis_label = \"Proportion of Recognized Objects [n/N]\"\n",
    "    plot.axis.axis_label_text_font_style = \"bold\"\n",
    "    plot.x_range = DataRange1d(range_padding=0.0)\n",
    "    plot.grid.grid_line_alpha = 0.3\n",
    "\n",
    "    return plot\n",
    "\n",
    "def calculate_recall(N, n, a, b):\n",
    "    a_part = 2 * (n / N) * (N - n) / (N - 1) * a\n",
    "    b_part = (N - n)/ N * ((N - n - 1)/(N - 1)) / 2\n",
    "    c_part = (n/N) * ((n - 1)/(N - 1)) * b \n",
    "    return a_part, b_part, c_part\n",
    "\n",
    "def update_df(N, a, b):\n",
    "    df = pd.DataFrame({'N': list(range(int(N + 1)))})\n",
    "    df['n_prop'] = (df['N'] / N)\n",
    "    df['a_part'], df['b_part'], df['c_part'] = zip(*df.apply(lambda row: calculate_recall(N, row['N'], a, b), axis=1))\n",
    "    return ColumnDataSource(data=df)\n",
    "\n",
    "def update_plot(attrname, old, new):\n",
    "    a = alpha.value\n",
    "    b = beta.value    \n",
    "\n",
    "    title_var_string = f'N={N_objects_total}, α={a:.2f}, β={b:.2f}'\n",
    "    plot.title.text = 'Expected Proportion of Correct Inferences ({})'.format(title_var_string)\n",
    "\n",
    "    expected_recall = update_df(N_objects_total, a, b)\n",
    "\n",
    "    source.data.update(expected_recall.data)\n",
    "\n",
    "\n"
   ]
  },
  {
   "cell_type": "code",
   "execution_count": 3,
   "metadata": {},
   "outputs": [],
   "source": [
    "N_objects_total = 1000\n",
    "# n_objects_recognized = Slider(start=10, end=N_objects_total, value=N_objects_total / 2, step=1, title=\"n Recognized Objects\")\n",
    "alpha = Slider(start=0., end=1., value=0.5, step=0.01, title='α (Recognition Validity)')\n",
    "beta = Slider(start=0., end=1., value=0.5, step=0.01, title='β (Knowledge Validity)')\n",
    "\n",
    "\n",
    "source = update_df(N_objects_total, alpha.value, beta.value)\n",
    "\n",
    "title_var_string = f'N={N_objects_total}, α={alpha.value:.2f}, β={beta.value:.2f}'\n",
    "plot = make_plot(source, 'Expected Proportion of Correct Inferences ({})'.format(title_var_string))\n",
    "\n",
    "alpha.on_change('value', update_plot)\n",
    "beta.on_change('value', update_plot)\n"
   ]
  },
  {
   "cell_type": "code",
   "execution_count": 4,
   "metadata": {},
   "outputs": [],
   "source": [
    "controls = column(alpha, beta)\n",
    "\n",
    "main_row = row(plot, column(controls, content.notes_div))\n",
    "\n",
    "layout = column(content.title_div, main_row, content.reference_div)\n",
    "\n",
    "curdoc().add_root(layout)\n",
    "curdoc().title = \"Expected Recall\""
   ]
  },
  {
   "cell_type": "code",
   "execution_count": 6,
   "metadata": {},
   "outputs": [
    {
     "data": {
      "text/html": [
       "<div style=\"display: table;\"><div style=\"display: table-row;\"><div style=\"display: table-cell;\"><b title=\"bokeh.models.layouts.Column\">Column</b>(</div><div style=\"display: table-cell;\">id&nbsp;=&nbsp;'1098', <span id=\"1108\" style=\"cursor: pointer;\">&hellip;)</span></div></div><div class=\"1107\" style=\"display: none;\"><div style=\"display: table-cell;\"></div><div style=\"display: table-cell;\">align&nbsp;=&nbsp;'start',</div></div><div class=\"1107\" style=\"display: none;\"><div style=\"display: table-cell;\"></div><div style=\"display: table-cell;\">aspect_ratio&nbsp;=&nbsp;None,</div></div><div class=\"1107\" style=\"display: none;\"><div style=\"display: table-cell;\"></div><div style=\"display: table-cell;\">background&nbsp;=&nbsp;None,</div></div><div class=\"1107\" style=\"display: none;\"><div style=\"display: table-cell;\"></div><div style=\"display: table-cell;\">children&nbsp;=&nbsp;[Div(id='1001', ...), Row(id='1097', ...), Div(id='1003', ...)],</div></div><div class=\"1107\" style=\"display: none;\"><div style=\"display: table-cell;\"></div><div style=\"display: table-cell;\">css_classes&nbsp;=&nbsp;[],</div></div><div class=\"1107\" style=\"display: none;\"><div style=\"display: table-cell;\"></div><div style=\"display: table-cell;\">disabled&nbsp;=&nbsp;False,</div></div><div class=\"1107\" style=\"display: none;\"><div style=\"display: table-cell;\"></div><div style=\"display: table-cell;\">height&nbsp;=&nbsp;None,</div></div><div class=\"1107\" style=\"display: none;\"><div style=\"display: table-cell;\"></div><div style=\"display: table-cell;\">height_policy&nbsp;=&nbsp;'auto',</div></div><div class=\"1107\" style=\"display: none;\"><div style=\"display: table-cell;\"></div><div style=\"display: table-cell;\">js_event_callbacks&nbsp;=&nbsp;{},</div></div><div class=\"1107\" style=\"display: none;\"><div style=\"display: table-cell;\"></div><div style=\"display: table-cell;\">js_property_callbacks&nbsp;=&nbsp;{},</div></div><div class=\"1107\" style=\"display: none;\"><div style=\"display: table-cell;\"></div><div style=\"display: table-cell;\">margin&nbsp;=&nbsp;(0, 0, 0, 0),</div></div><div class=\"1107\" style=\"display: none;\"><div style=\"display: table-cell;\"></div><div style=\"display: table-cell;\">max_height&nbsp;=&nbsp;None,</div></div><div class=\"1107\" style=\"display: none;\"><div style=\"display: table-cell;\"></div><div style=\"display: table-cell;\">max_width&nbsp;=&nbsp;None,</div></div><div class=\"1107\" style=\"display: none;\"><div style=\"display: table-cell;\"></div><div style=\"display: table-cell;\">min_height&nbsp;=&nbsp;None,</div></div><div class=\"1107\" style=\"display: none;\"><div style=\"display: table-cell;\"></div><div style=\"display: table-cell;\">min_width&nbsp;=&nbsp;None,</div></div><div class=\"1107\" style=\"display: none;\"><div style=\"display: table-cell;\"></div><div style=\"display: table-cell;\">name&nbsp;=&nbsp;None,</div></div><div class=\"1107\" style=\"display: none;\"><div style=\"display: table-cell;\"></div><div style=\"display: table-cell;\">rows&nbsp;=&nbsp;'auto',</div></div><div class=\"1107\" style=\"display: none;\"><div style=\"display: table-cell;\"></div><div style=\"display: table-cell;\">sizing_mode&nbsp;=&nbsp;None,</div></div><div class=\"1107\" style=\"display: none;\"><div style=\"display: table-cell;\"></div><div style=\"display: table-cell;\">spacing&nbsp;=&nbsp;0,</div></div><div class=\"1107\" style=\"display: none;\"><div style=\"display: table-cell;\"></div><div style=\"display: table-cell;\">subscribed_events&nbsp;=&nbsp;[],</div></div><div class=\"1107\" style=\"display: none;\"><div style=\"display: table-cell;\"></div><div style=\"display: table-cell;\">tags&nbsp;=&nbsp;[],</div></div><div class=\"1107\" style=\"display: none;\"><div style=\"display: table-cell;\"></div><div style=\"display: table-cell;\">visible&nbsp;=&nbsp;True,</div></div><div class=\"1107\" style=\"display: none;\"><div style=\"display: table-cell;\"></div><div style=\"display: table-cell;\">width&nbsp;=&nbsp;None,</div></div><div class=\"1107\" style=\"display: none;\"><div style=\"display: table-cell;\"></div><div style=\"display: table-cell;\">width_policy&nbsp;=&nbsp;'auto')</div></div></div>\n",
       "<script>\n",
       "(function() {\n",
       "  var expanded = false;\n",
       "  var ellipsis = document.getElementById(\"1108\");\n",
       "  ellipsis.addEventListener(\"click\", function() {\n",
       "    var rows = document.getElementsByClassName(\"1107\");\n",
       "    for (var i = 0; i < rows.length; i++) {\n",
       "      var el = rows[i];\n",
       "      el.style.display = expanded ? \"none\" : \"table-row\";\n",
       "    }\n",
       "    ellipsis.innerHTML = expanded ? \"&hellip;)\" : \"&lsaquo;&lsaquo;&lsaquo;\";\n",
       "    expanded = !expanded;\n",
       "  });\n",
       "})();\n",
       "</script>\n"
      ],
      "text/plain": [
       "Column(id='1098', ...)"
      ]
     },
     "execution_count": 6,
     "metadata": {},
     "output_type": "execute_result"
    }
   ],
   "source": [
    "layout"
   ]
  },
  {
   "cell_type": "code",
   "execution_count": null,
   "metadata": {},
   "outputs": [],
   "source": []
  }
 ],
 "metadata": {
  "kernelspec": {
   "display_name": "Python 3",
   "language": "python",
   "name": "python3"
  },
  "language_info": {
   "codemirror_mode": {
    "name": "ipython",
    "version": 3
   },
   "file_extension": ".py",
   "mimetype": "text/x-python",
   "name": "python",
   "nbconvert_exporter": "python",
   "pygments_lexer": "ipython3",
   "version": "3.8.5"
  }
 },
 "nbformat": 4,
 "nbformat_minor": 4
}
